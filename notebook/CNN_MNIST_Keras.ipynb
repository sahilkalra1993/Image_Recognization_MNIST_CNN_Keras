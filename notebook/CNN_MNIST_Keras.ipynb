{
  "nbformat": 4,
  "nbformat_minor": 0,
  "metadata": {
    "colab": {
      "name": "CNN_MNIST_Keras.ipynb",
      "provenance": [],
      "collapsed_sections": []
    },
    "kernelspec": {
      "name": "python3",
      "display_name": "Python 3"
    }
  },
  "cells": [
    {
      "cell_type": "code",
      "metadata": {
        "id": "1cZRGVYIsW4C",
        "colab_type": "code",
        "colab": {}
      },
      "source": [
        ""
      ],
      "execution_count": 0,
      "outputs": []
    },
    {
      "cell_type": "code",
      "metadata": {
        "id": "EXzp4tZ3slSn",
        "colab_type": "code",
        "colab": {
          "base_uri": "https://localhost:8080/",
          "height": 35
        },
        "outputId": "87d68843-fdc9-4f35-d0cc-bec4d318d6a1"
      },
      "source": [
        "# Importing the neccessary libraries\n",
        "\n",
        "# TensorFlow for dataset\n",
        "import tensorflow as tf\n",
        "# For plotting the images\n",
        "import matplotlib.pyplot as plt\n",
        "\n",
        "# Import sequential model, in which we will sequentially place our layers\n",
        "from keras.models import Sequential\n",
        "# Import neccessary layers:\n",
        "# 1. Conv2D: we will use MNIST dataset, grayscaled so it will have 2 dimensions \n",
        "#   (width, height), for colored images, we can use Conv3D\n",
        "#   Activation function of ReLu will be used to convert the convolved output into a ReLu function,\n",
        "#   s.t. x will be x and -x will be 0\n",
        "# 3. MaxPool2D: Will be used to find sum of maxpool layer, it will reduce size\n",
        "#   based upon the pool_size (Stride value).\n",
        "# 4. Dropout: To save the model from overfitting\n",
        "# 5. Flatten: To convert 2D image to 1D before enterring it in ANN (Dense)\n",
        "# 6. Dense: ANN\n",
        "from keras.layers import Conv2D, MaxPool2D, Dropout, Flatten, Dense\n",
        "\n",
        "# Load the Data\n",
        "(x_train, y_train), (x_test, y_test) = tf.keras.datasets.mnist.load_data()\n",
        "print (x_train.shape, y_train.shape, x_test.shape, y_test.shape)\n"
      ],
      "execution_count": 16,
      "outputs": [
        {
          "output_type": "stream",
          "text": [
            "(60000, 28, 28) (60000,) (10000, 28, 28) (10000,)\n"
          ],
          "name": "stdout"
        }
      ]
    },
    {
      "cell_type": "code",
      "metadata": {
        "id": "_kfQqdk01MwX",
        "colab_type": "code",
        "colab": {
          "base_uri": "https://localhost:8080/",
          "height": 338
        },
        "outputId": "71d70ad2-e09a-4d44-e02c-2afba8c67e2c"
      },
      "source": [
        "# Data Processing: Data Observation\n",
        "\n",
        "# 1. Looking at one digit\n",
        "image_index = 1020 # You may select anything up to 60,000\n",
        "print(y_train[image_index]) # The label is 6\n",
        "print(x_train[image_index][18]) # The label is 6\n",
        "plt.imshow(x_train[image_index], cmap='Greys')\n",
        "\n",
        "# Key take away, the x_train contains RGB values like 234, 253 etc, so we will \n",
        "# be required to normalize it by dividing it by 255 to get all values between\n",
        "# 0 and 1"
      ],
      "execution_count": 17,
      "outputs": [
        {
          "output_type": "stream",
          "text": [
            "6\n",
            "[  0   0   0   0   0   0   0   0  37 234 253 238  43   0   0   0 100 253\n",
            " 253  55   0   0   0   0   0   0   0   0]\n"
          ],
          "name": "stdout"
        },
        {
          "output_type": "execute_result",
          "data": {
            "text/plain": [
              "<matplotlib.image.AxesImage at 0x7f4aa99945f8>"
            ]
          },
          "metadata": {
            "tags": []
          },
          "execution_count": 17
        },
        {
          "output_type": "display_data",
          "data": {
            "image/png": "[encoded data removed]",
            "text/plain": [
              "<Figure size 432x288 with 1 Axes>"
            ]
          },
          "metadata": {
            "tags": []
          }
        }
      ]
    },
    {
      "cell_type": "code",
      "metadata": {
        "id": "WvkY48qA1rUP",
        "colab_type": "code",
        "colab": {
          "base_uri": "https://localhost:8080/",
          "height": 90
        },
        "outputId": "ac48727e-9a1d-4dc5-9b58-116d6de69233"
      },
      "source": [
        "# Data Processing: Reshaping\n",
        "\n",
        "# 2. Reshaping the Data\n",
        "print (\"Original train data shape: \", x_train.shape, \"Number of Dimension: \", len(x_train.shape))\n",
        "print (\"Original test data shape: \", x_test.shape, \"Number of Dimension: \", len(x_test.shape))\n",
        "\n",
        "# To use data in Keras API, we need 4 dimensions, so reshaping the data.\n",
        "x_train = x_train.reshape(x_train.shape[0], 28, 28, 1)\n",
        "x_test = x_test.reshape(x_test.shape[0], 28, 28, 1)\n",
        "\n",
        "print (\"Reshaped train data shape: \", x_train.shape, \"Number of Dimension: \", len(x_train.shape))\n",
        "print (\"Reshaped test data shape: \", x_test.shape, \"Number of Dimension: \", len(x_test.shape))\n",
        "\n",
        "input_shape = (28, 28, 1)"
      ],
      "execution_count": 18,
      "outputs": [
        {
          "output_type": "stream",
          "text": [
            "Original train data shape:  (60000, 28, 28) Number of Dimension:  3\n",
            "Original test data shape:  (10000, 28, 28) Number of Dimension:  3\n",
            "Reshaped train data shape:  (60000, 28, 28, 1) Number of Dimension:  4\n",
            "Reshaped test data shape:  (10000, 28, 28, 1) Number of Dimension:  4\n"
          ],
          "name": "stdout"
        }
      ]
    },
    {
      "cell_type": "code",
      "metadata": {
        "id": "J_9QS9F-3GTm",
        "colab_type": "code",
        "colab": {
          "base_uri": "https://localhost:8080/",
          "height": 526
        },
        "outputId": "df1918b5-61da-4755-a9d3-c0bab03d637f"
      },
      "source": [
        "# Data Processing: Data Standardization and Normalization \n",
        "\n",
        "# 3. Data Standardization\n",
        "# Making sure that the values are float so that we can get decimal points after \n",
        "# division\n",
        "x_train = x_train.astype('float32')\n",
        "x_test = x_test.astype('float32')\n",
        "\n",
        "# 4. Data Normalization\n",
        "# Normalizing the RGB codes by dividing it to the max RGB value.\n",
        "x_train /= 255\n",
        "x_test /= 255\n",
        "\n",
        "# Verify the normalized data \n",
        "# print(x_train[image_index][18])"
      ],
      "execution_count": 21,
      "outputs": [
        {
          "output_type": "stream",
          "text": [
            "[[0.        ]\n",
            " [0.        ]\n",
            " [0.        ]\n",
            " [0.        ]\n",
            " [0.        ]\n",
            " [0.        ]\n",
            " [0.        ]\n",
            " [0.        ]\n",
            " [0.14509805]\n",
            " [0.91764706]\n",
            " [0.99215686]\n",
            " [0.93333334]\n",
            " [0.16862746]\n",
            " [0.        ]\n",
            " [0.        ]\n",
            " [0.        ]\n",
            " [0.39215687]\n",
            " [0.99215686]\n",
            " [0.99215686]\n",
            " [0.21568628]\n",
            " [0.        ]\n",
            " [0.        ]\n",
            " [0.        ]\n",
            " [0.        ]\n",
            " [0.        ]\n",
            " [0.        ]\n",
            " [0.        ]\n",
            " [0.        ]]\n"
          ],
          "name": "stdout"
        }
      ]
    },
    {
      "cell_type": "code",
      "metadata": {
        "id": "lHjjckWj-buY",
        "colab_type": "code",
        "colab": {
          "base_uri": "https://localhost:8080/",
          "height": 35
        },
        "outputId": "1b0cdda9-c007-45f6-a945-fe649f53b5fe"
      },
      "source": [
        "# Just for Information:\n",
        "print('x_train shape:', x_train.shape)\n",
        "# Shape of x is 28*28"
      ],
      "execution_count": 23,
      "outputs": [
        {
          "output_type": "stream",
          "text": [
            "x_train shape: (60000, 28, 28, 1)\n"
          ],
          "name": "stdout"
        }
      ]
    },
    {
      "cell_type": "code",
      "metadata": {
        "id": "z1gn6_rYAGw6",
        "colab_type": "code",
        "colab": {
          "base_uri": "https://localhost:8080/",
          "height": 964
        },
        "outputId": "1d957006-0344-4ea4-d32a-e33eae5a41a1"
      },
      "source": [
        "# Builiding the Convolution Neural Network\n",
        "\n",
        "# Defining Sequential model\n",
        "model = Sequential()\n",
        "\n",
        "# Adding the first layer: Convolution Layer\n",
        "\n",
        "# Adding Conv2D, parameters:\n",
        "# Useful Link : https://www.geeksforgeeks.org/keras-conv2d-class/\n",
        "# Useful Link : https://keras.io/layers/convolutional/\n",
        "\n",
        "# 1. filters: Number of Filters (Like in custom CNN we used 2 filters (horizontal and vertical))\n",
        "#        Its always better to use filters in power of 2. Here we are using 32.\n",
        "# 2. kernel_size: This parameter determines the dimensions of the kernel. Common \n",
        "#        dimensions include 1×1, 3×3, 5×5, and 7×7 which can be passed as (1, 1), (3, 3), (5, 5), or (7, 7) tuples.\n",
        "#        This parameter must be an odd integer. We are using (3,3)\n",
        "# 3. Strides (Not used here): Default value is (1,1)\n",
        "#        This parameter is an integer or tuple/list of 2 integers, specifying the “step” of the convolution along \n",
        "#        with the height and width of the input volume. Its default value is always set to (1, 1) which means that \n",
        "#        the given Conv2D filter is applied to the current location of the input volume and the given filter takes a \n",
        "#        1 pixel step to the right and again the filter is applied to the input volume and it is performed until we reach \n",
        "#        the far right border of the volume in which we are moving our filter. and then we move 1 pixel down.\n",
        "# 4. input_shape: to specify the input shape.\n",
        " \n",
        "model.add(Conv2D(32, kernel_size=(3,3), activation=\"relu\", input_shape=input_shape))\n",
        "\n",
        "# Adding the second layer: ReLu layer\n",
        "# Useful Link: https://keras.io/layers/pooling/\n",
        "\n",
        "# pool_size = (2,2), so the size would be reduced to almost half along both the \n",
        "#              height and width.\n",
        "model.add(MaxPool2D(pool_size=(2, 2)))\n",
        "\n",
        "# Flattening the output to input it to a NN (Dense Network)\n",
        "model.add(Flatten()) # Flattening the 2D arrays for fully connected layers\n",
        "\n",
        "# Adding the third layer: NN (Dense Network)\n",
        "# 169 Calculated based upon the above parameters.\n",
        "# 28*28 input, so after 3*3 filter applied, post the convolving, the output will \n",
        "# be 26*26. Using maxpooling with 2*2 size, the image will be ~13*13.\n",
        "# So 169 Input neuron.\n",
        "model.add(Dense(169, activation=tf.nn.relu))\n",
        "\n",
        "# Dropping out 20% of the neurons to prevent overfitting\n",
        "model.add(Dropout(0.2))\n",
        "\n",
        "# Adding a hidden layer of 16, after the dense NN\n",
        "model.add(Dense(16,activation=tf.nn.softmax))\n",
        "\n",
        "\n",
        "# Optimizer: Adam Optimizer\n",
        "# https://towardsdatascience.com/the-3-best-optimization-methods-in-neural-networks-40879c887873\n",
        "model.compile(optimizer='adam', \n",
        "              loss='sparse_categorical_crossentropy', \n",
        "              metrics=['accuracy'])\n",
        "model.fit(x=x_train,y=y_train, epochs=10)\n"
      ],
      "execution_count": 26,
      "outputs": [
        {
          "output_type": "stream",
          "text": [
            "WARNING:tensorflow:From /usr/local/lib/python3.6/dist-packages/keras/backend/tensorflow_backend.py:4267: The name tf.nn.max_pool is deprecated. Please use tf.nn.max_pool2d instead.\n",
            "\n",
            "WARNING:tensorflow:From /usr/local/lib/python3.6/dist-packages/keras/backend/tensorflow_backend.py:148: The name tf.placeholder_with_default is deprecated. Please use tf.compat.v1.placeholder_with_default instead.\n",
            "\n",
            "WARNING:tensorflow:From /usr/local/lib/python3.6/dist-packages/keras/backend/tensorflow_backend.py:3733: calling dropout (from tensorflow.python.ops.nn_ops) with keep_prob is deprecated and will be removed in a future version.\n",
            "Instructions for updating:\n",
            "Please use `rate` instead of `keep_prob`. Rate should be set to `rate = 1 - keep_prob`.\n",
            "WARNING:tensorflow:From /usr/local/lib/python3.6/dist-packages/keras/optimizers.py:793: The name tf.train.Optimizer is deprecated. Please use tf.compat.v1.train.Optimizer instead.\n",
            "\n",
            "WARNING:tensorflow:From /usr/local/lib/python3.6/dist-packages/keras/backend/tensorflow_backend.py:3622: The name tf.log is deprecated. Please use tf.math.log instead.\n",
            "\n",
            "WARNING:tensorflow:From /usr/local/lib/python3.6/dist-packages/tensorflow_core/python/ops/math_grad.py:1424: where (from tensorflow.python.ops.array_ops) is deprecated and will be removed in a future version.\n",
            "Instructions for updating:\n",
            "Use tf.where in 2.0, which has the same broadcast rule as np.where\n",
            "WARNING:tensorflow:From /usr/local/lib/python3.6/dist-packages/keras/backend/tensorflow_backend.py:1033: The name tf.assign_add is deprecated. Please use tf.compat.v1.assign_add instead.\n",
            "\n",
            "WARNING:tensorflow:From /usr/local/lib/python3.6/dist-packages/keras/backend/tensorflow_backend.py:1020: The name tf.assign is deprecated. Please use tf.compat.v1.assign instead.\n",
            "\n",
            "WARNING:tensorflow:From /usr/local/lib/python3.6/dist-packages/keras/backend/tensorflow_backend.py:3005: The name tf.Session is deprecated. Please use tf.compat.v1.Session instead.\n",
            "\n",
            "Epoch 1/10\n",
            "WARNING:tensorflow:From /usr/local/lib/python3.6/dist-packages/keras/backend/tensorflow_backend.py:190: The name tf.get_default_session is deprecated. Please use tf.compat.v1.get_default_session instead.\n",
            "\n",
            "WARNING:tensorflow:From /usr/local/lib/python3.6/dist-packages/keras/backend/tensorflow_backend.py:197: The name tf.ConfigProto is deprecated. Please use tf.compat.v1.ConfigProto instead.\n",
            "\n",
            "WARNING:tensorflow:From /usr/local/lib/python3.6/dist-packages/keras/backend/tensorflow_backend.py:207: The name tf.global_variables is deprecated. Please use tf.compat.v1.global_variables instead.\n",
            "\n",
            "WARNING:tensorflow:From /usr/local/lib/python3.6/dist-packages/keras/backend/tensorflow_backend.py:216: The name tf.is_variable_initialized is deprecated. Please use tf.compat.v1.is_variable_initialized instead.\n",
            "\n",
            "WARNING:tensorflow:From /usr/local/lib/python3.6/dist-packages/keras/backend/tensorflow_backend.py:223: The name tf.variables_initializer is deprecated. Please use tf.compat.v1.variables_initializer instead.\n",
            "\n",
            "60000/60000 [==============================] - 56s 938us/step - loss: 0.1708 - acc: 0.9488\n",
            "Epoch 2/10\n",
            "60000/60000 [==============================] - 56s 935us/step - loss: 0.0621 - acc: 0.9813\n",
            "Epoch 3/10\n",
            "60000/60000 [==============================] - 55s 922us/step - loss: 0.0419 - acc: 0.9870\n",
            "Epoch 4/10\n",
            "60000/60000 [==============================] - 55s 923us/step - loss: 0.0306 - acc: 0.9905\n",
            "Epoch 5/10\n",
            "60000/60000 [==============================] - 55s 918us/step - loss: 0.0239 - acc: 0.9922\n",
            "Epoch 6/10\n",
            "60000/60000 [==============================] - 55s 915us/step - loss: 0.0186 - acc: 0.9938\n",
            "Epoch 7/10\n",
            "60000/60000 [==============================] - 55s 924us/step - loss: 0.0141 - acc: 0.9951\n",
            "Epoch 8/10\n",
            "60000/60000 [==============================] - 55s 923us/step - loss: 0.0129 - acc: 0.9957\n",
            "Epoch 9/10\n",
            "60000/60000 [==============================] - 55s 917us/step - loss: 0.0115 - acc: 0.9963\n",
            "Epoch 10/10\n",
            "60000/60000 [==============================] - 55s 917us/step - loss: 0.0104 - acc: 0.9965\n"
          ],
          "name": "stdout"
        },
        {
          "output_type": "execute_result",
          "data": {
            "text/plain": [
              "<keras.callbacks.History at 0x7f4aa902f6d8>"
            ]
          },
          "metadata": {
            "tags": []
          },
          "execution_count": 26
        }
      ]
    },
    {
      "cell_type": "code",
      "metadata": {
        "id": "8VuwtilWAhVR",
        "colab_type": "code",
        "colab": {
          "base_uri": "https://localhost:8080/",
          "height": 53
        },
        "outputId": "64875a18-8607-46d1-b533-77cb8bc3e92b"
      },
      "source": [
        "# Evaluating Model Performance:\n",
        "\n",
        "model.evaluate(x_test, y_test)"
      ],
      "execution_count": 27,
      "outputs": [
        {
          "output_type": "stream",
          "text": [
            "10000/10000 [==============================] - 2s 225us/step\n"
          ],
          "name": "stdout"
        },
        {
          "output_type": "execute_result",
          "data": {
            "text/plain": [
              "[0.04783361253576877, 0.9882]"
            ]
          },
          "metadata": {
            "tags": []
          },
          "execution_count": 27
        }
      ]
    },
    {
      "cell_type": "code",
      "metadata": {
        "id": "kzWrDRKZI7sM",
        "colab_type": "code",
        "colab": {}
      },
      "source": [
        "# Saving Model:\n",
        "\n",
        "from keras.models import load_model\n",
        "\n",
        "model.save('mnist_keras.h5')  # creates a HDF5 file 'my_model.h5'\n",
        "# del model  # deletes the existing model\n",
        "\n"
      ],
      "execution_count": 0,
      "outputs": []
    },
    {
      "cell_type": "code",
      "metadata": {
        "id": "lncdTxMpJIdr",
        "colab_type": "code",
        "colab": {
          "base_uri": "https://localhost:8080/",
          "height": 53
        },
        "outputId": "20c886a8-a566-40a9-f513-87bff1290b9a"
      },
      "source": [
        "\n",
        "model_test = load_model('mnist_keras.h5')\n",
        "model_test.evaluate(x_test, y_test)"
      ],
      "execution_count": 29,
      "outputs": [
        {
          "output_type": "stream",
          "text": [
            "10000/10000 [==============================] - 2s 227us/step\n"
          ],
          "name": "stdout"
        },
        {
          "output_type": "execute_result",
          "data": {
            "text/plain": [
              "[0.04783361253576877, 0.9882]"
            ]
          },
          "metadata": {
            "tags": []
          },
          "execution_count": 29
        }
      ]
    },
    {
      "cell_type": "code",
      "metadata": {
        "id": "NAryKeLtJSw6",
        "colab_type": "code",
        "colab": {}
      },
      "source": [
        ""
      ],
      "execution_count": 0,
      "outputs": []
    }
  ]
}